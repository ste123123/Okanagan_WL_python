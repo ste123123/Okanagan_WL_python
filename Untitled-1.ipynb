{
 "cells": [
  {
   "cell_type": "code",
   "execution_count": 2,
   "metadata": {},
   "outputs": [
    {
     "name": "stderr",
     "output_type": "stream",
     "text": [
      "2025-01-21 09:43:43.222 WARNING streamlit.runtime.scriptrunner_utils.script_run_context: Thread 'MainThread': missing ScriptRunContext! This warning can be ignored when running in bare mode.\n",
      "2025-01-21 09:43:43.532 \n",
      "  \u001b[33m\u001b[1mWarning:\u001b[0m to view this Streamlit app on a browser, run it with the following\n",
      "  command:\n",
      "\n",
      "    streamlit run C:\\Users\\stefa\\AppData\\Roaming\\Python\\Python312\\site-packages\\ipykernel_launcher.py [ARGUMENTS]\n",
      "2025-01-21 09:43:43.532 Thread 'MainThread': missing ScriptRunContext! This warning can be ignored when running in bare mode.\n",
      "2025-01-21 09:43:43.532 Thread 'MainThread': missing ScriptRunContext! This warning can be ignored when running in bare mode.\n",
      "2025-01-21 09:43:43.532 Thread 'MainThread': missing ScriptRunContext! This warning can be ignored when running in bare mode.\n",
      "2025-01-21 09:43:43.532 Thread 'MainThread': missing ScriptRunContext! This warning can be ignored when running in bare mode.\n",
      "2025-01-21 09:43:43.532 Thread 'MainThread': missing ScriptRunContext! This warning can be ignored when running in bare mode.\n",
      "2025-01-21 09:43:43.532 Session state does not function when running a script without `streamlit run`\n",
      "2025-01-21 09:43:43.532 Thread 'MainThread': missing ScriptRunContext! This warning can be ignored when running in bare mode.\n",
      "2025-01-21 09:43:43.532 Thread 'MainThread': missing ScriptRunContext! This warning can be ignored when running in bare mode.\n"
     ]
    }
   ],
   "source": [
    "import streamlit as st\n",
    "import pandas as pd\n",
    "import os\n",
    "\n",
    "def load_data(folder_path):\n",
    "    \"\"\"Load all weekly data files from the specified folder.\"\"\"\n",
    "    data_files = [f for f in os.listdir(folder_path) if f.endswith('.csv')]\n",
    "    weeks_data = {}\n",
    "    for file in data_files:\n",
    "        week_name = file.split('.')[0]\n",
    "        weeks_data[week_name] = pd.read_csv(os.path.join(folder_path, file))\n",
    "    return weeks_data\n",
    "\n",
    "def calculate_metrics(data):\n",
    "    \"\"\"Calculate adherence and total volume.\"\"\"\n",
    "    adherence = []\n",
    "    total_volume = []\n",
    "\n",
    "    for _, row in data.iterrows():\n",
    "        planned_sets = row['Sets']\n",
    "        completed_sets = sum(pd.notna(row[f'Set {i} Reps']) for i in range(1, 9))\n",
    "        adherence.append(completed_sets / planned_sets if planned_sets > 0 else 0)\n",
    "\n",
    "        volume = sum(\n",
    "            (row[f'Set {i} Reps'] or 0) * (row[f'Set {i} Weight'] or 0)\n",
    "            for i in range(1, 9)\n",
    "            if pd.notna(row[f'Set {i} Reps']) and pd.notna(row[f'Set {i} Weight'])\n",
    "        )\n",
    "        total_volume.append(volume)\n",
    "\n",
    "    data['Adherence'] = adherence\n",
    "    data['Total Volume'] = total_volume\n",
    "    return data\n",
    "\n",
    "# Streamlit app\n",
    "st.title(\"Athlete Training Progress Viewer\")\n",
    "\n",
    "# Select folder containing weekly data\n",
    "folder_path = st.text_input(\"Enter the folder path containing weekly data files:\")\n",
    "\n",
    "if folder_path:\n",
    "    try:\n",
    "        # Load data\n",
    "        weeks_data = load_data(folder_path)\n",
    "\n",
    "        # Select week\n",
    "        selected_week = st.selectbox(\"Select a week:\", list(weeks_data.keys()))\n",
    "        week_data = weeks_data[selected_week]\n",
    "\n",
    "        # Display athlete names\n",
    "        athletes = week_data['Day of the Week'].dropna().unique()\n",
    "        selected_athlete = st.selectbox(\"Select an athlete:\", athletes)\n",
    "\n",
    "        # Filter data for selected athlete\n",
    "        athlete_data = week_data[week_data['Day of the Week'] == selected_athlete]\n",
    "\n",
    "        # Calculate metrics\n",
    "        athlete_data = calculate_metrics(athlete_data)\n",
    "\n",
    "        # Display data\n",
    "        st.write(\"### Training Data\")\n",
    "        st.dataframe(athlete_data)\n",
    "\n",
    "        # Visualize metrics\n",
    "        st.write(\"### Metrics\")\n",
    "        st.bar_chart(athlete_data[['Adherence', 'Total Volume']])\n",
    "\n",
    "    except Exception as e:\n",
    "        st.error(f\"Error loading data: {e}\")\n"
   ]
  },
  {
   "cell_type": "code",
   "execution_count": 1,
   "metadata": {},
   "outputs": [
    {
     "ename": "SyntaxError",
     "evalue": "invalid syntax (293755250.py, line 1)",
     "output_type": "error",
     "traceback": [
      "\u001b[1;36m  Cell \u001b[1;32mIn[1], line 1\u001b[1;36m\u001b[0m\n\u001b[1;33m    python -m pip install streamlit\u001b[0m\n\u001b[1;37m              ^\u001b[0m\n\u001b[1;31mSyntaxError\u001b[0m\u001b[1;31m:\u001b[0m invalid syntax\n"
     ]
    }
   ],
   "source": [
    "python -m pip install streamlit\n"
   ]
  }
 ],
 "metadata": {
  "kernelspec": {
   "display_name": "base",
   "language": "python",
   "name": "python3"
  },
  "language_info": {
   "codemirror_mode": {
    "name": "ipython",
    "version": 3
   },
   "file_extension": ".py",
   "mimetype": "text/x-python",
   "name": "python",
   "nbconvert_exporter": "python",
   "pygments_lexer": "ipython3",
   "version": "3.12.1"
  }
 },
 "nbformat": 4,
 "nbformat_minor": 2
}
