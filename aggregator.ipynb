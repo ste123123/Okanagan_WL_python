{
 "cells": [
  {
   "cell_type": "code",
   "execution_count": 5,
   "id": "36dffa36",
   "metadata": {},
   "outputs": [
    {
     "name": "stdout",
     "output_type": "stream",
     "text": [
      "Saved: C:\\Users\\stefa\\OneDrive\\Documents\\Okanagan_WL\\Okanagan_WL\\aggregated_athletes\\Daniele_Conca.csv (1776 rows)\n",
      "Saved: C:\\Users\\stefa\\OneDrive\\Documents\\Okanagan_WL\\Okanagan_WL\\aggregated_athletes\\Valentina_Cesaroni.csv (1736 rows)\n",
      "Saved: C:\\Users\\stefa\\OneDrive\\Documents\\Okanagan_WL\\Okanagan_WL\\aggregated_athletes\\Paola_Cascone.csv (1816 rows)\n",
      "Saved: C:\\Users\\stefa\\OneDrive\\Documents\\Okanagan_WL\\Okanagan_WL\\aggregated_athletes\\Giulia_Pavese.csv (2288 rows)\n",
      "Saved: C:\\Users\\stefa\\OneDrive\\Documents\\Okanagan_WL\\Okanagan_WL\\aggregated_athletes\\Simone_Ferro.csv (1856 rows)\n",
      "Saved: C:\\Users\\stefa\\OneDrive\\Documents\\Okanagan_WL\\Okanagan_WL\\aggregated_athletes\\Jakob_Håkansson.csv (944 rows)\n",
      "Saved: C:\\Users\\stefa\\OneDrive\\Documents\\Okanagan_WL\\Okanagan_WL\\aggregated_athletes\\Sofia_Tralli.csv (968 rows)\n",
      "Saved: C:\\Users\\stefa\\OneDrive\\Documents\\Okanagan_WL\\Okanagan_WL\\aggregated_athletes\\Klara_Skärskog.csv (1480 rows)\n",
      "Saved: C:\\Users\\stefa\\OneDrive\\Documents\\Okanagan_WL\\Okanagan_WL\\aggregated_athletes\\Alessio_Bianchi.csv (728 rows)\n",
      "Saved: C:\\Users\\stefa\\OneDrive\\Documents\\Okanagan_WL\\Okanagan_WL\\aggregated_athletes\\Costanza_Martorelli.csv (672 rows)\n",
      "Aggregation complete.\n"
     ]
    }
   ],
   "source": [
    "import os\n",
    "import pandas as pd\n",
    "\n",
    "RAW_DATA_DIR = \"C:\\\\Users\\\\stefa\\\\OneDrive\\\\Documents\\\\Okanagan_WL\\\\Okanagan_WL\\\\Training_data_raw\"\n",
    "OUTPUT_DIR = \"C:\\\\Users\\\\stefa\\\\OneDrive\\\\Documents\\\\Okanagan_WL\\\\Okanagan_WL\\\\aggregated_athletes\"\n",
    "SET_COUNT = 8  # Number of sets per row\n",
    "\n",
    "os.makedirs(OUTPUT_DIR, exist_ok=True)\n",
    "\n",
    "# Find all Excel files in the raw data directory\n",
    "excel_files = [f for f in os.listdir(RAW_DATA_DIR) if f.endswith('.xlsx') and (f.startswith('2025_') or f.startswith('2024_'))]\n",
    "\n",
    "athlete_data = {}\n",
    "\n",
    "for file in excel_files:\n",
    "    week_name = file.split('.')[0]\n",
    "    file_path = os.path.join(RAW_DATA_DIR, file)\n",
    "    xls = pd.ExcelFile(file_path)\n",
    "    for sheet_name in xls.sheet_names:\n",
    "        df = pd.read_excel(xls, sheet_name=sheet_name)\n",
    "        if df.empty:\n",
    "            continue\n",
    "        df['Week'] = week_name\n",
    "        df['Athlete'] = sheet_name\n",
    "        # Skip rows where both Category and Exercise are empty or missing\n",
    "        df = df[~((df['Category'].isna() | (df['Category'].astype(str).str.strip() == '')) & (df['Exercise'].isna() | (df['Exercise'].astype(str).str.strip() == '')))]\n",
    "        # Melt sets to long format: always output a row for each prescribed set\n",
    "        set_rows = []\n",
    "        for i in range(1, SET_COUNT + 1):\n",
    "            reps_col = f'Set {i} Reps'\n",
    "            weight_col = f'Set {i} Weight'\n",
    "            temp = df.copy()\n",
    "            temp['Set'] = i\n",
    "            temp['Set_Reps'] = temp[reps_col] if reps_col in df.columns else None\n",
    "            temp['Set_Weight'] = temp[weight_col] if weight_col in df.columns else None\n",
    "            set_rows.append(temp)\n",
    "        long_df = pd.concat(set_rows, ignore_index=True)\n",
    "        # Drop original set columns\n",
    "        drop_cols = [f'Set {i} Reps' for i in range(1, SET_COUNT+1)] + [f'Set {i} Weight' for i in range(1, SET_COUNT+1)]\n",
    "        long_df = long_df.drop(columns=[c for c in drop_cols if c in long_df.columns])\n",
    "        # Reorder columns\n",
    "        cols = ['Athlete', 'Week', 'Day of the Week', 'Category', 'Exercise', 'Reps', 'Sets', 'Set', 'Set_Reps', 'Set_Weight']\n",
    "        cols = [c for c in cols if c in long_df.columns] + [c for c in long_df.columns if c not in cols]\n",
    "        long_df = long_df[cols]\n",
    "        athlete_data.setdefault(sheet_name, []).append(long_df)\n",
    "\n",
    "# Save each athlete's aggregated data as CSV\n",
    "for athlete, dfs in athlete_data.items():\n",
    "    agg_df = pd.concat(dfs, ignore_index=True)\n",
    "    out_path = os.path.join(OUTPUT_DIR, f\"{athlete.replace(' ', '_')}.csv\")\n",
    "    agg_df.to_csv(out_path, index=False)\n",
    "    print(f\"Saved: {out_path} ({len(agg_df)} rows)\")\n",
    "\n",
    "print(\"Aggregation complete.\")"
   ]
  }
 ],
 "metadata": {
  "kernelspec": {
   "display_name": "Python 3",
   "language": "python",
   "name": "python3"
  },
  "language_info": {
   "codemirror_mode": {
    "name": "ipython",
    "version": 3
   },
   "file_extension": ".py",
   "mimetype": "text/x-python",
   "name": "python",
   "nbconvert_exporter": "python",
   "pygments_lexer": "ipython3",
   "version": "3.12.3"
  }
 },
 "nbformat": 4,
 "nbformat_minor": 5
}
